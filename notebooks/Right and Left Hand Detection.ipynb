{
 "cells": [
  {
   "cell_type": "code",
   "execution_count": 13,
   "metadata": {},
   "outputs": [],
   "source": [
    "# Importing Libraries \n",
    "import cv2 \n",
    "import mediapipe as mp \n",
    "\n",
    "# Used to convert protobuf message to a dictionary. \n",
    "from google.protobuf.json_format import MessageToDict "
   ]
  },
  {
   "cell_type": "code",
   "execution_count": 14,
   "metadata": {},
   "outputs": [],
   "source": [
    "# Initializing the Model \n",
    "mpHands = mp.solutions.hands \n",
    "hands = mpHands.Hands( \n",
    "\tstatic_image_mode=False, \n",
    "\tmodel_complexity=1,\n",
    "\tmin_detection_confidence=0.75, \n",
    "\tmin_tracking_confidence=0.75, \n",
    "\tmax_num_hands=2) "
   ]
  },
  {
   "cell_type": "code",
   "execution_count": 18,
   "metadata": {},
   "outputs": [],
   "source": [
    "path = '\\home\\haovan\\repos\\Learn-Computer-Vision\\assets\\videos\\WIN_20231031_15_01_55_Pro.mp4'\n",
    "\n",
    "import os\n",
    "\n",
    "# Check file in path\n",
    "if os.path.isfile(path):\n",
    "    print(\"File exist\")\n",
    "\n",
    "# Start capturing video from webcam \n",
    "# cap = cv2.VideoCapture()"
   ]
  },
  {
   "cell_type": "code",
   "execution_count": 16,
   "metadata": {},
   "outputs": [
    {
     "ename": "error",
     "evalue": "OpenCV(4.8.1) /io/opencv/modules/imgproc/src/color.cpp:182: error: (-215:Assertion failed) !_src.empty() in function 'cvtColor'\n",
     "output_type": "error",
     "traceback": [
      "\u001b[0;31m---------------------------------------------------------------------------\u001b[0m",
      "\u001b[0;31merror\u001b[0m                                     Traceback (most recent call last)",
      "\u001b[1;32m/home/haovan/repos/Learn-Computer-Vision/notebooks/Right and Left Hand Detection.ipynb Cell 4\u001b[0m line \u001b[0;36m1\n\u001b[1;32m      <a href='vscode-notebook-cell://wsl%2Bkali-linux/home/haovan/repos/Learn-Computer-Vision/notebooks/Right%20and%20Left%20Hand%20Detection.ipynb#W3sdnNjb2RlLXJlbW90ZQ%3D%3D?line=6'>7</a>\u001b[0m img \u001b[39m=\u001b[39m cv2\u001b[39m.\u001b[39mflip(img, \u001b[39m1\u001b[39m) \n\u001b[1;32m      <a href='vscode-notebook-cell://wsl%2Bkali-linux/home/haovan/repos/Learn-Computer-Vision/notebooks/Right%20and%20Left%20Hand%20Detection.ipynb#W3sdnNjb2RlLXJlbW90ZQ%3D%3D?line=8'>9</a>\u001b[0m \u001b[39m# Convert BGR image to RGB image \u001b[39;00m\n\u001b[0;32m---> <a href='vscode-notebook-cell://wsl%2Bkali-linux/home/haovan/repos/Learn-Computer-Vision/notebooks/Right%20and%20Left%20Hand%20Detection.ipynb#W3sdnNjb2RlLXJlbW90ZQ%3D%3D?line=9'>10</a>\u001b[0m imgRGB \u001b[39m=\u001b[39m cv2\u001b[39m.\u001b[39;49mcvtColor(img, cv2\u001b[39m.\u001b[39;49mCOLOR_BGR2RGB)\n\u001b[1;32m     <a href='vscode-notebook-cell://wsl%2Bkali-linux/home/haovan/repos/Learn-Computer-Vision/notebooks/Right%20and%20Left%20Hand%20Detection.ipynb#W3sdnNjb2RlLXJlbW90ZQ%3D%3D?line=11'>12</a>\u001b[0m \u001b[39m# Process the RGB image \u001b[39;00m\n\u001b[1;32m     <a href='vscode-notebook-cell://wsl%2Bkali-linux/home/haovan/repos/Learn-Computer-Vision/notebooks/Right%20and%20Left%20Hand%20Detection.ipynb#W3sdnNjb2RlLXJlbW90ZQ%3D%3D?line=12'>13</a>\u001b[0m results \u001b[39m=\u001b[39m hands\u001b[39m.\u001b[39mprocess(imgRGB) \n",
      "\u001b[0;31merror\u001b[0m: OpenCV(4.8.1) /io/opencv/modules/imgproc/src/color.cpp:182: error: (-215:Assertion failed) !_src.empty() in function 'cvtColor'\n"
     ]
    }
   ],
   "source": [
    "\n",
    "\n",
    "\n",
    "while True: \n",
    "\t\n",
    "\t# Read video frame by frame \n",
    "\tsuccess, img = cap.read() \n",
    "\n",
    "\t# Flip the image(frame) \n",
    "\timg = cv2.flip(img, 1) \n",
    "\n",
    "\t# Convert BGR image to RGB image \n",
    "\timgRGB = cv2.cvtColor(img, cv2.COLOR_BGR2RGB)\n",
    "\n",
    "\t# Process the RGB image \n",
    "\tresults = hands.process(imgRGB) \n",
    "\n",
    "\t# If hands are present in image(frame) \n",
    "\tif results.multi_hand_landmarks: \n",
    "\n",
    "\t\t# Both Hands are present in image(frame) \n",
    "\t\tif len(results.multi_handedness) == 2: \n",
    "\t\t\t\t# Display 'Both Hands' on the image \n",
    "\t\t\tcv2.putText(img, 'Both Hands', (250, 50), \n",
    "\t\t\t\t\t\tcv2.FONT_HERSHEY_COMPLEX, 0.9, \n",
    "\t\t\t\t\t\t(0, 255, 0), 2) \n",
    "\n",
    "\t\t# If any hand present \n",
    "\t\telse: \n",
    "\t\t\tfor i in results.multi_handedness: \n",
    "\t\t\t\t\n",
    "\t\t\t\t# Return whether it is Right or Left Hand \n",
    "\t\t\t\tlabel = MessageToDict(i)[ \n",
    "\t\t\t\t\t'classification'][0]['label'] \n",
    "\n",
    "\t\t\t\tif label == 'Left': \n",
    "\t\t\t\t\t\n",
    "\t\t\t\t\t# Display 'Left Hand' on left side of window \n",
    "\t\t\t\t\tcv2.putText(img, label+' Hand', (20, 50), \n",
    "\t\t\t\t\t\t\t\tcv2.FONT_HERSHEY_COMPLEX, 0.9, \n",
    "\t\t\t\t\t\t\t\t(0, 255, 0), 2) \n",
    "\n",
    "\t\t\t\tif label == 'Right': \n",
    "\t\t\t\t\t\n",
    "\t\t\t\t\t# Display 'Left Hand' on left side of window \n",
    "\t\t\t\t\tcv2.putText(img, label+' Hand', (460, 50), \n",
    "\t\t\t\t\t\t\t\tcv2.FONT_HERSHEY_COMPLEX, \n",
    "\t\t\t\t\t\t\t\t0.9, (0, 255, 0), 2) \n",
    "\n",
    "\t# Display Video and when 'q' is entered, destroy the window \n",
    "\tcv2.imshow('Image', img) \n",
    "\tif cv2.waitKey(1) & 0xff == ord('q'): \n",
    "\t\tbreak\n"
   ]
  },
  {
   "cell_type": "code",
   "execution_count": null,
   "metadata": {},
   "outputs": [],
   "source": []
  }
 ],
 "metadata": {
  "kernelspec": {
   "display_name": "Python 3 (ipykernel)",
   "language": "python",
   "name": "python3"
  },
  "language_info": {
   "codemirror_mode": {
    "name": "ipython",
    "version": 3
   },
   "file_extension": ".py",
   "mimetype": "text/x-python",
   "name": "python",
   "nbconvert_exporter": "python",
   "pygments_lexer": "ipython3",
   "version": "3.11.5"
  }
 },
 "nbformat": 4,
 "nbformat_minor": 2
}
