{
 "cells": [
  {
   "cell_type": "code",
   "execution_count": 1,
   "id": "initial_id",
   "metadata": {
    "ExecuteTime": {
     "end_time": "2023-09-18T01:15:14.985021Z",
     "start_time": "2023-09-18T01:15:14.776444500Z"
    },
    "collapsed": true,
    "jupyter": {
     "outputs_hidden": true
    }
   },
   "outputs": [],
   "source": [
    "import cv2"
   ]
  },
  {
   "cell_type": "code",
   "execution_count": 3,
   "id": "ac2849fab286a9ff",
   "metadata": {
    "ExecuteTime": {
     "end_time": "2023-09-18T01:15:16.339719400Z",
     "start_time": "2023-09-18T01:15:16.304762700Z"
    },
    "collapsed": false,
    "jupyter": {
     "outputs_hidden": false
    }
   },
   "outputs": [],
   "source": [
    "img = cv2.imread('Lena.jpg')"
   ]
  },
  {
   "cell_type": "code",
   "execution_count": 4,
   "id": "abfd933786b66978",
   "metadata": {
    "ExecuteTime": {
     "end_time": "2023-09-18T01:15:20.621101200Z",
     "start_time": "2023-09-18T01:15:17.512861900Z"
    },
    "collapsed": false,
    "jupyter": {
     "outputs_hidden": false
    }
   },
   "outputs": [],
   "source": [
    "cv2.imshow('Lena', img)\n",
    "cv2.waitKey(0)\n",
    "cv2.destroyAllWindows()"
   ]
  },
  {
   "cell_type": "code",
   "execution_count": 5,
   "id": "e7b1632760d847d4",
   "metadata": {
    "ExecuteTime": {
     "end_time": "2023-09-18T01:15:56.301240100Z",
     "start_time": "2023-09-18T01:15:56.244804400Z"
    },
    "collapsed": false,
    "jupyter": {
     "outputs_hidden": false
    }
   },
   "outputs": [
    {
     "data": {
      "text/plain": [
       "True"
      ]
     },
     "execution_count": 5,
     "metadata": {},
     "output_type": "execute_result"
    }
   ],
   "source": [
    "cv2.imwrite('Lena.png', img)"
   ]
  },
  {
   "cell_type": "code",
   "execution_count": 9,
   "id": "4760e275634f8aa7",
   "metadata": {
    "ExecuteTime": {
     "end_time": "2023-09-18T01:25:54.890091200Z",
     "start_time": "2023-09-18T01:25:54.886934600Z"
    },
    "collapsed": false,
    "jupyter": {
     "outputs_hidden": false
    }
   },
   "outputs": [
    {
     "name": "stdout",
     "output_type": "stream",
     "text": [
      "width=512, height=512, depth=3\n"
     ]
    }
   ],
   "source": [
    "(h, w, d) = img.shape\n",
    "print(f'width={w}, height={h}, depth={d}')"
   ]
  },
  {
   "cell_type": "code",
   "execution_count": 8,
   "id": "9748fd32854666b6",
   "metadata": {
    "ExecuteTime": {
     "end_time": "2023-09-18T01:25:40.918596700Z",
     "start_time": "2023-09-18T01:25:40.897289900Z"
    },
    "collapsed": false,
    "jupyter": {
     "outputs_hidden": false
    }
   },
   "outputs": [
    {
     "name": "stdout",
     "output_type": "stream",
     "text": [
      "R=235, G=140, B=118\n"
     ]
    }
   ],
   "source": [
    "(B, G, R) = img[100, 50]\n",
    "print(f'R={R}, G={G}, B={B}')"
   ]
  },
  {
   "cell_type": "markdown",
   "id": "d214969aa30f6794",
   "metadata": {
    "collapsed": false,
    "jupyter": {
     "outputs_hidden": false
    }
   },
   "source": [
    "# Cắt ảnh"
   ]
  },
  {
   "cell_type": "code",
   "execution_count": 10,
   "id": "4bad4ff84245afbb",
   "metadata": {
    "ExecuteTime": {
     "end_time": "2023-09-18T01:27:36.692156Z",
     "start_time": "2023-09-18T01:27:32.292068700Z"
    },
    "collapsed": false,
    "jupyter": {
     "outputs_hidden": false
    }
   },
   "outputs": [
    {
     "data": {
      "text/plain": [
       "-1"
      ]
     },
     "execution_count": 10,
     "metadata": {},
     "output_type": "execute_result"
    }
   ],
   "source": [
    "roi = img[50:350, 60:360]\n",
    "cv2.imshow('Region Of Interest', roi)\n",
    "cv2.waitKey(0)"
   ]
  },
  {
   "cell_type": "markdown",
   "id": "22743133eff818f1",
   "metadata": {
    "collapsed": false,
    "jupyter": {
     "outputs_hidden": false
    }
   },
   "source": [
    " # Thay đổi kích thước ảnh"
   ]
  },
  {
   "cell_type": "code",
   "execution_count": 11,
   "id": "f394f751386cc792",
   "metadata": {
    "ExecuteTime": {
     "end_time": "2023-09-18T01:29:31.097597200Z",
     "start_time": "2023-09-18T01:29:28.181704Z"
    },
    "collapsed": false,
    "jupyter": {
     "outputs_hidden": false
    }
   },
   "outputs": [
    {
     "data": {
      "text/plain": [
       "-1"
      ]
     },
     "execution_count": 11,
     "metadata": {},
     "output_type": "execute_result"
    }
   ],
   "source": [
    "r = 200.0 / w\n",
    "dim = (200, int(h * r))\n",
    "resized = cv2.resize(img, dim, interpolation=cv2.INTER_AREA)\n",
    "cv2.imshow('Aspect Ratio Resize', resized)\n",
    "cv2.waitKey(0)"
   ]
  },
  {
   "cell_type": "markdown",
   "id": "aac17335-645e-42f1-a758-375ce0d041a3",
   "metadata": {
    "ExecuteTime": {
     "end_time": "2023-09-18T01:57:22.583162100Z",
     "start_time": "2023-09-18T01:57:22.575741800Z"
    },
    "collapsed": false,
    "jupyter": {
     "outputs_hidden": false
    }
   },
   "source": [
    "# Vẽ trên hình ảnh"
   ]
  },
  {
   "cell_type": "code",
   "execution_count": 1,
   "id": "2930530c-59c2-4c2d-b266-095e7205e401",
   "metadata": {
    "ExecuteTime": {
     "end_time": "2023-09-18T02:00:54.996807600Z",
     "start_time": "2023-09-18T02:00:54.980796700Z"
    }
   },
   "outputs": [],
   "source": [
    "#Vẽ khung chữ nhật trên hình ảnh\n",
    "# draw a 2px thick red rectangle surrounding the face\n",
    "output = img.copy() #Tạo bản sao\n",
    "#(320,60): tọa độ pixel bắt đầu phía trên bên trái\n",
    "#(420,160): tọa độ pixcel kết thúc phía dưới bên phải\n",
    "#(0,0,255): BGR tuple, màu Red\n",
    "#thickness: ở đây đặt là 2"
   ]
  },
  {
   "cell_type": "code",
   "execution_count": null,
   "id": "05251c82-aa18-4ae8-91af-fdd56268d06d",
   "metadata": {},
   "outputs": [],
   "source": []
  }
 ],
 "metadata": {
  "kernelspec": {
   "display_name": "Python 3 (ipykernel)",
   "language": "python",
   "name": "python3"
  },
  "language_info": {
   "codemirror_mode": {
    "name": "ipython",
    "version": 3
   },
   "file_extension": ".py",
   "mimetype": "text/x-python",
   "name": "python",
   "nbconvert_exporter": "python",
   "pygments_lexer": "ipython3",
   "version": "3.11.5"
  }
 },
 "nbformat": 4,
 "nbformat_minor": 5
}
