{
 "cells": [
  {
   "cell_type": "code",
   "execution_count": 2,
   "id": "initial_id",
   "metadata": {
    "collapsed": true,
    "ExecuteTime": {
     "end_time": "2023-09-18T01:15:14.985021Z",
     "start_time": "2023-09-18T01:15:14.776444500Z"
    }
   },
   "outputs": [],
   "source": [
    "import cv2"
   ]
  },
  {
   "cell_type": "code",
   "execution_count": 3,
   "outputs": [],
   "source": [
    "img = cv2.imread('Lena.jpg')"
   ],
   "metadata": {
    "collapsed": false,
    "ExecuteTime": {
     "end_time": "2023-09-18T01:15:16.339719400Z",
     "start_time": "2023-09-18T01:15:16.304762700Z"
    }
   },
   "id": "ac2849fab286a9ff"
  },
  {
   "cell_type": "code",
   "execution_count": 4,
   "outputs": [],
   "source": [
    "cv2.imshow('Lena', img)\n",
    "cv2.waitKey(0)\n",
    "cv2.destroyAllWindows()"
   ],
   "metadata": {
    "collapsed": false,
    "ExecuteTime": {
     "end_time": "2023-09-18T01:15:20.621101200Z",
     "start_time": "2023-09-18T01:15:17.512861900Z"
    }
   },
   "id": "abfd933786b66978"
  },
  {
   "cell_type": "code",
   "execution_count": 5,
   "outputs": [
    {
     "data": {
      "text/plain": "True"
     },
     "execution_count": 5,
     "metadata": {},
     "output_type": "execute_result"
    }
   ],
   "source": [
    "cv2.imwrite('Lena.png', img)"
   ],
   "metadata": {
    "collapsed": false,
    "ExecuteTime": {
     "end_time": "2023-09-18T01:15:56.301240100Z",
     "start_time": "2023-09-18T01:15:56.244804400Z"
    }
   },
   "id": "e7b1632760d847d4"
  },
  {
   "cell_type": "code",
   "execution_count": 9,
   "outputs": [
    {
     "name": "stdout",
     "output_type": "stream",
     "text": [
      "width=512, height=512, depth=3\n"
     ]
    }
   ],
   "source": [
    "(h, w, d) = img.shape\n",
    "print(f'width={w}, height={h}, depth={d}')"
   ],
   "metadata": {
    "collapsed": false,
    "ExecuteTime": {
     "end_time": "2023-09-18T01:25:54.890091200Z",
     "start_time": "2023-09-18T01:25:54.886934600Z"
    }
   },
   "id": "4760e275634f8aa7"
  },
  {
   "cell_type": "code",
   "execution_count": 8,
   "outputs": [
    {
     "name": "stdout",
     "output_type": "stream",
     "text": [
      "R=235, G=140, B=118\n"
     ]
    }
   ],
   "source": [
    "(B, G, R) = img[100, 50]\n",
    "print(f'R={R}, G={G}, B={B}')"
   ],
   "metadata": {
    "collapsed": false,
    "ExecuteTime": {
     "end_time": "2023-09-18T01:25:40.918596700Z",
     "start_time": "2023-09-18T01:25:40.897289900Z"
    }
   },
   "id": "9748fd32854666b6"
  },
  {
   "cell_type": "markdown",
   "source": [
    "# Cắt ảnh"
   ],
   "metadata": {
    "collapsed": false
   },
   "id": "d214969aa30f6794"
  },
  {
   "cell_type": "code",
   "execution_count": 10,
   "outputs": [
    {
     "data": {
      "text/plain": "-1"
     },
     "execution_count": 10,
     "metadata": {},
     "output_type": "execute_result"
    }
   ],
   "source": [
    "roi = img[50:350, 60:360]\n",
    "cv2.imshow('Region Of Interest', roi)\n",
    "cv2.waitKey(0)"
   ],
   "metadata": {
    "collapsed": false,
    "ExecuteTime": {
     "end_time": "2023-09-18T01:27:36.692156Z",
     "start_time": "2023-09-18T01:27:32.292068700Z"
    }
   },
   "id": "4bad4ff84245afbb"
  },
  {
   "cell_type": "markdown",
   "source": [
    " # Thay đổi kích thước ảnh"
   ],
   "metadata": {
    "collapsed": false
   },
   "id": "22743133eff818f1"
  },
  {
   "cell_type": "code",
   "execution_count": 11,
   "outputs": [
    {
     "data": {
      "text/plain": "-1"
     },
     "execution_count": 11,
     "metadata": {},
     "output_type": "execute_result"
    }
   ],
   "source": [
    "r = 200.0 / w\n",
    "dim = (200, int(h * r))\n",
    "resized = cv2.resize(img, dim, interpolation=cv2.INTER_AREA)\n",
    "cv2.imshow('Aspect Ratio Resize', resized)\n",
    "cv2.waitKey(0)"
   ],
   "metadata": {
    "collapsed": false,
    "ExecuteTime": {
     "end_time": "2023-09-18T01:29:31.097597200Z",
     "start_time": "2023-09-18T01:29:28.181704Z"
    }
   },
   "id": "f394f751386cc792"
  },
  {
   "cell_type": "code",
   "execution_count": null,
   "outputs": [],
   "source": [],
   "metadata": {
    "collapsed": false
   },
   "id": "297f7d7d15c91063"
  }
 ],
 "metadata": {
  "kernelspec": {
   "display_name": "Python 3",
   "language": "python",
   "name": "python3"
  },
  "language_info": {
   "codemirror_mode": {
    "name": "ipython",
    "version": 2
   },
   "file_extension": ".py",
   "mimetype": "text/x-python",
   "name": "python",
   "nbconvert_exporter": "python",
   "pygments_lexer": "ipython2",
   "version": "2.7.6"
  }
 },
 "nbformat": 4,
 "nbformat_minor": 5
}
