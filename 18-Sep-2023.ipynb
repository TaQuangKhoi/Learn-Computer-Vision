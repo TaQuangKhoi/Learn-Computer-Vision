{
 "cells": [
  {
   "cell_type": "code",
   "execution_count": 1,
   "id": "initial_id",
   "metadata": {
    "ExecuteTime": {
     "end_time": "2023-09-18T01:15:14.985021Z",
     "start_time": "2023-09-18T01:15:14.776444500Z"
    },
    "collapsed": true,
    "jupyter": {
     "outputs_hidden": true
    }
   },
   "outputs": [],
   "source": [
    "import cv2"
   ]
  },
  {
   "cell_type": "code",
   "execution_count": 2,
   "id": "ac2849fab286a9ff",
   "metadata": {
    "ExecuteTime": {
     "end_time": "2023-09-18T01:15:16.339719400Z",
     "start_time": "2023-09-18T01:15:16.304762700Z"
    },
    "collapsed": false,
    "jupyter": {
     "outputs_hidden": false
    }
   },
   "outputs": [],
   "source": [
    "img = cv2.imread('Lena.jpg')"
   ]
  },
  {
   "cell_type": "code",
   "execution_count": 3,
   "id": "abfd933786b66978",
   "metadata": {
    "ExecuteTime": {
     "end_time": "2023-09-18T01:15:20.621101200Z",
     "start_time": "2023-09-18T01:15:17.512861900Z"
    },
    "collapsed": false,
    "jupyter": {
     "outputs_hidden": false
    }
   },
   "outputs": [],
   "source": [
    "cv2.imshow('Lena', img)\n",
    "# cv2.waitKey(0)\n",
    "# cv2.destroyAllWindows()"
   ]
  },
  {
   "cell_type": "code",
   "execution_count": 5,
   "id": "e7b1632760d847d4",
   "metadata": {
    "ExecuteTime": {
     "end_time": "2023-09-18T01:15:56.301240100Z",
     "start_time": "2023-09-18T01:15:56.244804400Z"
    },
    "collapsed": false,
    "jupyter": {
     "outputs_hidden": false
    }
   },
   "outputs": [
    {
     "data": {
      "text/plain": [
       "True"
      ]
     },
     "execution_count": 5,
     "metadata": {},
     "output_type": "execute_result"
    }
   ],
   "source": [
    "cv2.imwrite('Lena.png', img)"
   ]
  },
  {
   "cell_type": "code",
   "execution_count": 9,
   "id": "4760e275634f8aa7",
   "metadata": {
    "ExecuteTime": {
     "end_time": "2023-09-18T01:25:54.890091200Z",
     "start_time": "2023-09-18T01:25:54.886934600Z"
    },
    "collapsed": false,
    "jupyter": {
     "outputs_hidden": false
    }
   },
   "outputs": [
    {
     "name": "stdout",
     "output_type": "stream",
     "text": [
      "width=512, height=512, depth=3\n"
     ]
    }
   ],
   "source": [
    "(h, w, d) = img.shape\n",
    "print(f'width={w}, height={h}, depth={d}')"
   ]
  },
  {
   "cell_type": "code",
   "execution_count": 8,
   "id": "9748fd32854666b6",
   "metadata": {
    "ExecuteTime": {
     "end_time": "2023-09-18T01:25:40.918596700Z",
     "start_time": "2023-09-18T01:25:40.897289900Z"
    },
    "collapsed": false,
    "jupyter": {
     "outputs_hidden": false
    }
   },
   "outputs": [
    {
     "name": "stdout",
     "output_type": "stream",
     "text": [
      "R=235, G=140, B=118\n"
     ]
    }
   ],
   "source": [
    "(B, G, R) = img[100, 50]\n",
    "print(f'R={R}, G={G}, B={B}')"
   ]
  },
  {
   "cell_type": "markdown",
   "id": "d214969aa30f6794",
   "metadata": {
    "collapsed": false,
    "jupyter": {
     "outputs_hidden": false
    }
   },
   "source": [
    "# Cắt ảnh"
   ]
  },
  {
   "cell_type": "code",
   "execution_count": 10,
   "id": "4bad4ff84245afbb",
   "metadata": {
    "ExecuteTime": {
     "end_time": "2023-09-18T01:27:36.692156Z",
     "start_time": "2023-09-18T01:27:32.292068700Z"
    },
    "collapsed": false,
    "jupyter": {
     "outputs_hidden": false
    }
   },
   "outputs": [
    {
     "data": {
      "text/plain": [
       "-1"
      ]
     },
     "execution_count": 10,
     "metadata": {},
     "output_type": "execute_result"
    }
   ],
   "source": [
    "roi = img[50:350, 60:360]\n",
    "# cv2.imshow('Region Of Interest', roi)\n",
    "# cv2.waitKey(0)"
   ]
  },
  {
   "cell_type": "markdown",
   "id": "22743133eff818f1",
   "metadata": {
    "collapsed": false,
    "jupyter": {
     "outputs_hidden": false
    }
   },
   "source": [
    " # Thay đổi kích thước ảnh"
   ]
  },
  {
   "cell_type": "code",
   "execution_count": 11,
   "id": "f394f751386cc792",
   "metadata": {
    "ExecuteTime": {
     "end_time": "2023-09-18T01:29:31.097597200Z",
     "start_time": "2023-09-18T01:29:28.181704Z"
    },
    "collapsed": false,
    "jupyter": {
     "outputs_hidden": false
    }
   },
   "outputs": [
    {
     "data": {
      "text/plain": [
       "-1"
      ]
     },
     "execution_count": 11,
     "metadata": {},
     "output_type": "execute_result"
    }
   ],
   "source": [
    "r = 200.0 / w\n",
    "dim = (200, int(h * r))\n",
    "resized = cv2.resize(img, dim, interpolation=cv2.INTER_AREA)\n",
    "# cv2.imshow('Aspect Ratio Resize', resized)\n",
    "# cv2.waitKey(0)"
   ]
  },
  {
   "cell_type": "markdown",
   "id": "aac17335-645e-42f1-a758-375ce0d041a3",
   "metadata": {
    "ExecuteTime": {
     "end_time": "2023-09-18T01:57:22.583162100Z",
     "start_time": "2023-09-18T01:57:22.575741800Z"
    },
    "collapsed": false,
    "jupyter": {
     "outputs_hidden": false
    }
   },
   "source": [
    "# Vẽ trên hình ảnh"
   ]
  },
  {
   "cell_type": "code",
   "execution_count": 4,
   "id": "2930530c-59c2-4c2d-b266-095e7205e401",
   "metadata": {
    "ExecuteTime": {
     "end_time": "2023-09-18T02:00:54.996807600Z",
     "start_time": "2023-09-18T02:00:54.980796700Z"
    }
   },
   "outputs": [
    {
     "data": {
      "text/plain": [
       "-1"
      ]
     },
     "execution_count": 4,
     "metadata": {},
     "output_type": "execute_result"
    }
   ],
   "source": [
    "# Vẽ khung chữ nhật trên hình ảnh\n",
    "# draw a 2px thick red rectangle surrounding the face\n",
    "output = img.copy() #Tạo bản sao\n",
    "cv2.rectangle(output, (320, 60), (420, 160), (0, 0, 255), 2)\n",
    "#(320,60): tọa độ pixel bắt đầu phía trên bên trái\n",
    "#(420,160): tọa độ pixcel kết thúc phía dưới bên phải\n",
    "#(0,0,255): BGR tuple, màu Red\n",
    "#thickness: ở đây đặt là 2\n",
    "# cv2.imshow(\"Rectangle\", output)\n",
    "# cv2.waitKey(0)"
   ]
  },
  {
   "cell_type": "code",
   "execution_count": 5,
   "id": "05251c82-aa18-4ae8-91af-fdd56268d06d",
   "metadata": {},
   "outputs": [
    {
     "data": {
      "text/plain": [
       "-1"
      ]
     },
     "execution_count": 5,
     "metadata": {},
     "output_type": "execute_result"
    }
   ],
   "source": [
    "# Vẽ chấm tròn trên hình ảnh\n",
    "# draw a blue 20px (filled in) circle on the image centered at\n",
    "# x=300,y=150\n",
    "output = img.copy()\n",
    "cv2.circle(output, (300, 150), 20, (255, 0, 0), -1)\n",
    "#center: (300,150)\n",
    "#radius: 20 px\n",
    "#color: Blue (255,0,0)\n",
    "#thickness: -1\n",
    "# cv2.imshow(\"Circle\", output)\n",
    "# cv2.waitKey(0)"
   ]
  },
  {
   "cell_type": "code",
   "execution_count": 6,
   "id": "0de20784",
   "metadata": {},
   "outputs": [
    {
     "data": {
      "text/plain": [
       "-1"
      ]
     },
     "execution_count": 6,
     "metadata": {},
     "output_type": "execute_result"
    }
   ],
   "source": [
    "#Vẽ đường thẳng màu đỏ\n",
    "# draw a 5px thick red line from x=60,y=20 to x=400,y=200\n",
    "output = img.copy()\n",
    "cv2.line(output, (60, 20), (400, 200), (0, 0, 255), 5)\n",
    "# cv2.imshow(\"Line\", output)\n",
    "# cv2.waitKey(0)"
   ]
  },
  {
   "cell_type": "code",
   "execution_count": 7,
   "id": "1fb7ab44",
   "metadata": {},
   "outputs": [
    {
     "data": {
      "text/plain": [
       "-1"
      ]
     },
     "execution_count": 7,
     "metadata": {},
     "output_type": "execute_result"
    }
   ],
   "source": [
    "# Viết text lên ảnh\n",
    "# draw green text on the image\n",
    "output = img.copy()\n",
    "cv2.putText(output, \"OpenCV + BVU!!!\", (10, 25), cv2.FONT_HERSHEY_SIMPLEX, 0.7, (0, 255, 0), 2)\n",
    "#scale: font sz multiplier (0.7)\n",
    "#color: text color\n",
    "#thickness\n",
    "# cv2.imshow(\"Text\", output)\n",
    "# cv2.waitKey(0)\n"
   ]
  },
  {
   "cell_type": "markdown",
   "id": "50149249",
   "metadata": {},
   "source": [
    "# Chuyển thành ảnh xám"
   ]
  },
  {
   "cell_type": "code",
   "execution_count": 8,
   "id": "f1462178",
   "metadata": {},
   "outputs": [
    {
     "data": {
      "text/plain": [
       "27"
      ]
     },
     "execution_count": 8,
     "metadata": {},
     "output_type": "execute_result"
    }
   ],
   "source": [
    "# convert the image to grayscale\n",
    "gray = cv2.cvtColor(img, cv2.COLOR_BGR2GRAY)\n",
    "# cv2.imshow(\"Gray\", gray)\n",
    "# cv2.waitKey(0)"
   ]
  },
  {
   "cell_type": "markdown",
   "id": "03bc4f55",
   "metadata": {},
   "source": [
    "# Dò biên ảnh"
   ]
  },
  {
   "cell_type": "code",
   "execution_count": 9,
   "id": "4c241f4a",
   "metadata": {},
   "outputs": [
    {
     "data": {
      "text/plain": [
       "-1"
      ]
     },
     "execution_count": 9,
     "metadata": {},
     "output_type": "execute_result"
    }
   ],
   "source": [
    "# applying edge detection we can find the outlines of objects in images\n",
    "img = cv2.imread('Lena.png')\n",
    "gray = cv2.cvtColor(img, cv2.COLOR_BGR2GRAY)\n",
    "edged = cv2.Canny(gray, 30, 150)\n",
    "#cv2.Canny\n",
    "#img: gray\n",
    "#minVal: a minimum threshold (30)\n",
    "#maxVal: a maximun threshold (150)\n",
    "cv2.imshow(\"Edged\", edged)\n",
    "cv2.waitKey(0)"
   ]
  },
  {
   "cell_type": "markdown",
   "id": "044ed2ad",
   "metadata": {},
   "source": [
    "# Ngưỡng (Thresholding a grayscale image)\n",
    "\n",
    "Ngưỡng ảnh là một bước trung gian quan trọng trong quy trình xử lý ảnh. Ngưỡng có \n",
    "thể giúp chúng ta loại bỏ các vùng và đường viền sáng hơn hoặc tối hơn của hình ảnh"
   ]
  },
  {
   "cell_type": "code",
   "execution_count": 11,
   "id": "6a857da9",
   "metadata": {},
   "outputs": [
    {
     "data": {
      "text/plain": [
       "-1"
      ]
     },
     "execution_count": 11,
     "metadata": {},
     "output_type": "execute_result"
    }
   ],
   "source": [
    "# Ngưỡng\n",
    "# threshold the image by setting all pixel values less than 225\n",
    "# to 255 (white; foreground) and all pixel values >= 225 to 255\n",
    "# (black; background), thereby segmenting the image\n",
    "img = cv2.imread('tetris.jpg')\n",
    "gray = cv2.cvtColor(img, cv2.COLOR_BGR2GRAY)\n",
    "thresh = cv2.threshold(gray, 225, 255, \n",
    "cv2.THRESH_BINARY_INV)[1]\n",
    "# cv2.imshow(\"Thresh\", thresh)\n",
    "# cv2.waitKey(0)"
   ]
  },
  {
   "cell_type": "markdown",
   "id": "c88e4944",
   "metadata": {},
   "source": [
    "# Co và giãn ảnh"
   ]
  },
  {
   "cell_type": "markdown",
   "id": "31adbd66",
   "metadata": {},
   "source": [
    "## Co ảnh"
   ]
  },
  {
   "cell_type": "code",
   "execution_count": 12,
   "id": "151c3993",
   "metadata": {},
   "outputs": [
    {
     "data": {
      "text/plain": [
       "-1"
      ]
     },
     "execution_count": 12,
     "metadata": {},
     "output_type": "execute_result"
    }
   ],
   "source": [
    "# we apply erosions to reduce the size of foreground objects\n",
    "mask = thresh.copy()\n",
    "mask = cv2.erode(mask, None, iterations=5)\n",
    "# cv2.imshow(\"Eroded\", mask)\n",
    "# cv2.waitKey(0)"
   ]
  },
  {
   "cell_type": "markdown",
   "id": "2b9f767f",
   "metadata": {},
   "source": [
    "## Giãn ảnh"
   ]
  },
  {
   "cell_type": "code",
   "execution_count": 13,
   "id": "4b747099",
   "metadata": {},
   "outputs": [
    {
     "data": {
      "text/plain": [
       "-1"
      ]
     },
     "execution_count": 13,
     "metadata": {},
     "output_type": "execute_result"
    }
   ],
   "source": [
    "# similarly, dilations can increase the size of the ground objects\n",
    "mask = thresh.copy()\n",
    "mask = cv2.dilate(mask, None, iterations=5)\n",
    "# cv2.imshow(\"Dilated\", mask)\n",
    "# cv2.waitKey(0)"
   ]
  }
 ],
 "metadata": {
  "kernelspec": {
   "display_name": "Python 3 (ipykernel)",
   "language": "python",
   "name": "python3"
  },
  "language_info": {
   "codemirror_mode": {
    "name": "ipython",
    "version": 3
   },
   "file_extension": ".py",
   "mimetype": "text/x-python",
   "name": "python",
   "nbconvert_exporter": "python",
   "pygments_lexer": "ipython3",
   "version": "3.11.5"
  }
 },
 "nbformat": 4,
 "nbformat_minor": 5
}
