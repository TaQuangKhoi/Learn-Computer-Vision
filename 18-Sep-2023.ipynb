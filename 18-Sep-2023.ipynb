{
 "cells": [
  {
   "cell_type": "code",
   "execution_count": 2,
   "id": "initial_id",
   "metadata": {
    "collapsed": true,
    "ExecuteTime": {
     "end_time": "2023-09-18T01:31:46.116695800Z",
     "start_time": "2023-09-18T01:31:45.862491300Z"
    }
   },
   "outputs": [],
   "source": [
    "import cv2"
   ]
  },
  {
   "cell_type": "code",
   "execution_count": 3,
   "outputs": [],
   "source": [
    "img = cv2.imread('Lena.jpg')"
   ],
   "metadata": {
    "collapsed": false,
    "ExecuteTime": {
     "end_time": "2023-09-18T01:31:46.118188800Z",
     "start_time": "2023-09-18T01:31:46.111835200Z"
    }
   },
   "id": "ac2849fab286a9ff"
  },
  {
   "cell_type": "code",
   "execution_count": null,
   "outputs": [],
   "source": [
    "# cv2.imshow('Lena', img)\n",
    "# cv2.waitKey(0)\n",
    "# cv2.destroyAllWindows()"
   ],
   "metadata": {
    "collapsed": false,
    "is_executing": true,
    "ExecuteTime": {
     "start_time": "2023-09-18T01:31:46.122396300Z"
    }
   },
   "id": "abfd933786b66978"
  },
  {
   "cell_type": "code",
   "execution_count": null,
   "outputs": [],
   "source": [
    "cv2.imwrite('Lena.png', img)"
   ],
   "metadata": {
    "collapsed": false,
    "is_executing": true
   },
   "id": "e7b1632760d847d4"
  },
  {
   "cell_type": "code",
   "execution_count": null,
   "outputs": [],
   "source": [
    "(h, w, d) = img.shape\n",
    "print(f'width={w}, height={h}, depth={d}')"
   ],
   "metadata": {
    "collapsed": false,
    "is_executing": true
   },
   "id": "4760e275634f8aa7"
  },
  {
   "cell_type": "code",
   "execution_count": null,
   "outputs": [],
   "source": [
    "(B, G, R) = img[100, 50]\n",
    "print(f'R={R}, G={G}, B={B}')"
   ],
   "metadata": {
    "collapsed": false,
    "is_executing": true
   },
   "id": "9748fd32854666b6"
  },
  {
   "cell_type": "markdown",
   "source": [
    "# Cắt ảnh"
   ],
   "metadata": {
    "collapsed": false
   },
   "id": "d214969aa30f6794"
  },
  {
   "cell_type": "code",
   "execution_count": null,
   "outputs": [],
   "source": [
    "roi = img[50:350, 60:360]\n",
    "# cv2.imshow('Region Of Interest', roi)\n",
    "# cv2.waitKey(0)"
   ],
   "metadata": {
    "collapsed": false,
    "is_executing": true
   },
   "id": "4bad4ff84245afbb"
  },
  {
   "cell_type": "markdown",
   "source": [
    " # Thay đổi kích thước ảnh"
   ],
   "metadata": {
    "collapsed": false
   },
   "id": "22743133eff818f1"
  },
  {
   "cell_type": "code",
   "execution_count": null,
   "outputs": [],
   "source": [
    "r = 200.0 / w\n",
    "dim = (200, int(h * r))\n",
    "resized = cv2.resize(img, dim, interpolation=cv2.INTER_AREA)\n",
    "# cv2.imshow('Aspect Ratio Resize', resized)\n",
    "# cv2.waitKey(0)"
   ],
   "metadata": {
    "collapsed": false,
    "is_executing": true
   },
   "id": "f394f751386cc792"
  },
  {
   "cell_type": "markdown",
   "source": [
    "# Xoay ảnh"
   ],
   "metadata": {
    "collapsed": false
   },
   "id": "60a497c68decaddc"
  },
  {
   "cell_type": "code",
   "execution_count": null,
   "outputs": [],
   "source": [
    "(h, w, d) = img.shape\n",
    "center = (w // 2, h // 2) # // là chia lấy phần nguyên\n",
    "M = cv2.getRotationMatrix2D(center, 45, 1.0)\n",
    "rotated = cv2.warpAffine(img, M, (w, h))"
   ],
   "metadata": {
    "collapsed": false,
    "is_executing": true
   },
   "id": "e180ec7ad15389ea"
  },
  {
   "cell_type": "code",
   "execution_count": null,
   "outputs": [],
   "source": [
    "cv2.imshow('OpenCV Rotation', rotated)\n",
    "cv2.waitKey(0)"
   ],
   "metadata": {
    "collapsed": false,
    "is_executing": true
   },
   "id": "385d19961e5264dd"
  }
 ],
 "metadata": {
  "kernelspec": {
   "display_name": "Python 3",
   "language": "python",
   "name": "python3"
  },
  "language_info": {
   "codemirror_mode": {
    "name": "ipython",
    "version": 2
   },
   "file_extension": ".py",
   "mimetype": "text/x-python",
   "name": "python",
   "nbconvert_exporter": "python",
   "pygments_lexer": "ipython2",
   "version": "2.7.6"
  }
 },
 "nbformat": 4,
 "nbformat_minor": 5
}
