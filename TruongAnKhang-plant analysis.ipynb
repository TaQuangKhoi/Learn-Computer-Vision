{
 "cells": [
  {
   "cell_type": "code",
   "execution_count": 6,
   "metadata": {},
   "outputs": [],
   "source": [
    "import cv2\n",
    "import numpy as np"
   ]
  },
  {
   "cell_type": "markdown",
   "metadata": {},
   "source": [
    "All result come from GitHub Copilot or ChatGPT"
   ]
  },
  {
   "cell_type": "markdown",
   "metadata": {},
   "source": []
  },
  {
   "cell_type": "code",
   "execution_count": 7,
   "metadata": {},
   "outputs": [],
   "source": [
    "# Load images\n",
    "image1 = cv2.imread(\"img1.jpg\")\n",
    "image2 = cv2.imread(\"img2.jpg\")\n",
    "image3 = cv2.imread(\"img3.jpg\")"
   ]
  },
  {
   "cell_type": "code",
   "execution_count": 8,
   "metadata": {},
   "outputs": [],
   "source": [
    "# Crop images\n",
    "cropped_image1 = cv2.imread(\"img1.jpg\", cv2.IMREAD_COLOR)\n",
    "cropped_image2 = cv2.imread(\"img2.jpg\", cv2.IMREAD_COLOR)\n",
    "cropped_image3 = cv2.imread(\"img3.jpg\", cv2.IMREAD_COLOR)"
   ]
  },
  {
   "cell_type": "code",
   "execution_count": 9,
   "metadata": {},
   "outputs": [],
   "source": [
    "# Convert to grayscale\n",
    "gray_image1 = cv2.cvtColor(image1, cv2.COLOR_BGR2GRAY)\n",
    "gray_image2 = cv2.cvtColor(image2, cv2.COLOR_BGR2GRAY)\n",
    "gray_image3 = cv2.cvtColor(image3, cv2.COLOR_BGR2GRAY)"
   ]
  },
  {
   "cell_type": "code",
   "execution_count": 10,
   "metadata": {},
   "outputs": [],
   "source": [
    "# Threshold images\n",
    "ret1, threshold_image1 = cv2.threshold(gray_image1, 127, 255, cv2.THRESH_BINARY)\n",
    "ret2, threshold_image2 = cv2.threshold(gray_image2, 127, 255, cv2.THRESH_BINARY)\n",
    "ret3, threshold_image3 = cv2.threshold(gray_image3, 127, 255, cv2.THRESH_BINARY)"
   ]
  },
  {
   "cell_type": "code",
   "execution_count": 11,
   "metadata": {},
   "outputs": [],
   "source": [
    "# Find contours in binary images\n",
    "contours1, _ = cv2.findContours(threshold_image1, cv2.RETR_EXTERNAL, cv2.CHAIN_APPROX_SIMPLE)\n",
    "contours2, _ = cv2.findContours(threshold_image2, cv2.RETR_EXTERNAL, cv2.CHAIN_APPROX_SIMPLE)\n",
    "contours3, _ = cv2.findContours(threshold_image3, cv2.RETR_EXTERNAL, cv2.CHAIN_APPROX_SIMPLE)"
   ]
  },
  {
   "cell_type": "code",
   "execution_count": 12,
   "metadata": {},
   "outputs": [],
   "source": [
    "# Calculate features\n",
    "contour1 = max(contours1, key=cv2.contourArea)\n",
    "contour2 = max(contours2, key=cv2.contourArea)\n",
    "contour3 = max(contours3, key=cv2.contourArea)"
   ]
  },
  {
   "cell_type": "code",
   "execution_count": 13,
   "metadata": {},
   "outputs": [],
   "source": [
    "x1, y1, w1, h1 = cv2.boundingRect(contour1)\n",
    "x2, y2, w2, h2 = cv2.boundingRect(contour2)\n",
    "x3, y3, w3, h3 = cv2.boundingRect(contour3)"
   ]
  },
  {
   "cell_type": "code",
   "execution_count": 14,
   "metadata": {},
   "outputs": [],
   "source": [
    "height1, width1, area1 = h1, w1, h1 * w1\n",
    "height2, width2, area2 = h2, w2, h2 * w2\n",
    "height3, width3, area3 = h3, w3, h3 * w3"
   ]
  },
  {
   "cell_type": "code",
   "execution_count": 15,
   "metadata": {},
   "outputs": [],
   "source": [
    "# Compare features\n",
    "difference_in_height = height3 - height1\n",
    "difference_in_width = width3 - width1\n",
    "difference_in_area = area3 - area1"
   ]
  },
  {
   "cell_type": "code",
   "execution_count": 16,
   "metadata": {},
   "outputs": [
    {
     "name": "stdout",
     "output_type": "stream",
     "text": [
      "Sự tăng trưởng của cây cải:\n",
      "Chiều cao: -9\n",
      "Chiều rộng: 48\n",
      "Diện tích: 1674\n"
     ]
    }
   ],
   "source": [
    "print(\"Sự tăng trưởng của cây cải:\")\n",
    "print(\"Chiều cao:\", difference_in_height)\n",
    "print(\"Chiều rộng:\", difference_in_width)\n",
    "print(\"Diện tích:\", difference_in_area)"
   ]
  }
 ],
 "metadata": {
  "kernelspec": {
   "display_name": "Python 3",
   "language": "python",
   "name": "python3"
  },
  "language_info": {
   "codemirror_mode": {
    "name": "ipython",
    "version": 3
   },
   "file_extension": ".py",
   "mimetype": "text/x-python",
   "name": "python",
   "nbconvert_exporter": "python",
   "pygments_lexer": "ipython3",
   "version": "3.10.1"
  }
 },
 "nbformat": 4,
 "nbformat_minor": 2
}
